{
 "cells": [
  {
   "cell_type": "code",
   "execution_count": 9,
   "id": "276a5371-e1e4-47a5-a6b8-80027de7ad85",
   "metadata": {},
   "outputs": [
    {
     "name": "stdout",
     "output_type": "stream",
     "text": [
      "✅ Cleaned and saved: sepco_cleaned.sql\n"
     ]
    }
   ],
   "source": [
    "import re\n",
    "\n",
    "def escape_sql_line(line):\n",
    "    # Replace 0000-00-00 with NULL\n",
    "    line = line.replace(\"'0000-00-00'\", \"NULL\")\n",
    "    \n",
    "    # Fix INSERT values only\n",
    "    if line.strip().upper().startswith(\"INSERT INTO\"):\n",
    "        result = \"\"\n",
    "        inside_string = False\n",
    "        i = 0\n",
    "        while i < len(line):\n",
    "            char = line[i]\n",
    "            if char == \"'\":\n",
    "                # Start or end of string\n",
    "                inside_string = not inside_string\n",
    "                result += \"'\"\n",
    "                i += 1\n",
    "                continue\n",
    "\n",
    "            if inside_string:\n",
    "                # Inside a string, escape single quote by duplicating\n",
    "                if char == \"'\":\n",
    "                    result += \"''\"\n",
    "                elif char == \"\\\\\" and i+1 < len(line) and line[i+1] == \"'\":\n",
    "                    result += \"''\"\n",
    "                    i += 1  # skip next '\n",
    "                else:\n",
    "                    result += char\n",
    "            else:\n",
    "                result += char\n",
    "            i += 1\n",
    "        return result\n",
    "    return line\n",
    "\n",
    "with open(\"sepco_data.sql\", \"r\", encoding=\"utf-8\") as f:\n",
    "    lines = f.readlines()\n",
    "\n",
    "cleaned = [escape_sql_line(line) for line in lines]\n",
    "\n",
    "with open(\"sepco_cleaned.sql\", \"w\", encoding=\"utf-8\") as f:\n",
    "    f.writelines(cleaned)\n",
    "\n",
    "print(\"✅ Cleaned and saved: sepco_cleaned.sql\")\n"
   ]
  },
  {
   "cell_type": "code",
   "execution_count": null,
   "id": "c8daf6ce-2ffd-4121-aaa5-59c9a2d434fe",
   "metadata": {},
   "outputs": [],
   "source": []
  }
 ],
 "metadata": {
  "kernelspec": {
   "display_name": "Python (intel_gpu)",
   "language": "python",
   "name": "intel_gpu"
  },
  "language_info": {
   "codemirror_mode": {
    "name": "ipython",
    "version": 3
   },
   "file_extension": ".py",
   "mimetype": "text/x-python",
   "name": "python",
   "nbconvert_exporter": "python",
   "pygments_lexer": "ipython3",
   "version": "3.9.21"
  }
 },
 "nbformat": 4,
 "nbformat_minor": 5
}
